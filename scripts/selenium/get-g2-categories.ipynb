{
 "cells": [
  {
   "cell_type": "code",
   "execution_count": 65,
   "id": "fda0daf2-8e6e-4b71-9daa-7e7d21149d71",
   "metadata": {},
   "outputs": [],
   "source": [
    "from selenium import webdriver\n",
    "from selenium.webdriver.support.ui import Select\n",
    "from selenium.webdriver.support.ui import WebDriverWait\n",
    "from selenium.webdriver.support import expected_conditions as EC\n",
    "from selenium.webdriver.common.by import By\n",
    "from selenium.webdriver.remote.command import Command\n",
    "from selenium.webdriver.chrome.options import Options\n",
    "import pandas as pd\n",
    "import time\n",
    "import os"
   ]
  },
  {
   "cell_type": "code",
   "execution_count": 66,
   "id": "e299a9d8-847c-443c-b1c6-3dd10a0bcd82",
   "metadata": {},
   "outputs": [],
   "source": [
    "DOWNLOAD_PATH = './html/'\n",
    "CAT_URL = ('https://www.g2.com/categories')"
   ]
  },
  {
   "cell_type": "code",
   "execution_count": 120,
   "id": "6c2ada5a-e006-4edf-9d5a-9888b6606919",
   "metadata": {},
   "outputs": [
    {
     "name": "stderr",
     "output_type": "stream",
     "text": [
      "C:\\Users\\suriy\\AppData\\Local\\Temp/ipykernel_30164/3075945727.py:13: DeprecationWarning: executable_path has been deprecated, please pass in a Service object\n",
      "  browser = webdriver.Chrome(executable_path=chrome_driver,\n"
     ]
    }
   ],
   "source": [
    "# Set the default download folder\n",
    "chrome_driver = os.path.abspath(\"c:/works/utils/chromedriver/chromedriver.exe\")\n",
    "os.environ[\"webdriver.chrome.driver\"] = chrome_driver\n",
    "options = webdriver.ChromeOptions()\n",
    "options.add_argument(\"--disable-extensions\")\n",
    "#options.add_argument(\"--disable-gpu\")\n",
    "#options.add_argument(\"--no-sandbox\")  # linux only\n",
    "#options.add_argument(\"--headless\")\n",
    "options.add_argument(\"--remote-debugging-port=9222\")\n",
    "options.add_argument(\"--window-size=1280,1024\")\n",
    "default_download_path = {\"download.default_directory\": DOWNLOAD_PATH}\n",
    "options.add_experimental_option(\"prefs\", default_download_path)\n",
    "browser = webdriver.Chrome(executable_path=chrome_driver,\n",
    "                           options=options)\n",
    "browser.implicitly_wait(15)\n",
    "browser.get(CAT_URL)"
   ]
  },
  {
   "cell_type": "code",
   "execution_count": 68,
   "id": "8930f4a4-83a0-46b1-b383-662cf177ba7b",
   "metadata": {},
   "outputs": [
    {
     "data": {
      "text/plain": [
       "<selenium.webdriver.remote.webelement.WebElement (session=\"84e7e9bd443fe78203f0cabd00ddc7f8\", element=\"1b7ce3b2-0074-41e0-8881-cf4ca9e8c2aa\")>"
      ]
     },
     "execution_count": 68,
     "metadata": {},
     "output_type": "execute_result"
    }
   ],
   "source": [
    "xpath = \"//input[contains(@class, 'js-cookie-consent-action')]\"\n",
    "elem = browser.find_element(By.XPATH, xpath)\n",
    "elem"
   ]
  },
  {
   "cell_type": "code",
   "execution_count": 69,
   "id": "36a1630f-7460-476d-a0df-2b1d8e6e7821",
   "metadata": {},
   "outputs": [],
   "source": [
    "elem.click()"
   ]
  },
  {
   "cell_type": "code",
   "execution_count": 70,
   "id": "ac1ee857-0cdc-4d98-94ce-25b727aa18d4",
   "metadata": {},
   "outputs": [
    {
     "data": {
      "text/plain": [
       "2057"
      ]
     },
     "execution_count": 70,
     "metadata": {},
     "output_type": "execute_result"
    }
   ],
   "source": [
    "xpath = \"//div[contains(@class, 'categories__name')]\"\n",
    "elems = browser.find_elements(By.XPATH, xpath)\n",
    "len(elems)"
   ]
  },
  {
   "cell_type": "code",
   "execution_count": 71,
   "id": "3636fbc7-a75c-4743-8f14-322a9861dc7c",
   "metadata": {},
   "outputs": [
    {
     "data": {
      "text/plain": [
       "'CRM Software\\nSales Software'"
      ]
     },
     "execution_count": 71,
     "metadata": {},
     "output_type": "execute_result"
    }
   ],
   "source": [
    "elems[0].text"
   ]
  },
  {
   "cell_type": "code",
   "execution_count": 72,
   "id": "9ec48605-0699-4216-a210-2ea84de7fd06",
   "metadata": {},
   "outputs": [
    {
     "data": {
      "text/plain": [
       "''"
      ]
     },
     "execution_count": 72,
     "metadata": {},
     "output_type": "execute_result"
    }
   ],
   "source": [
    "elems[14].text"
   ]
  },
  {
   "cell_type": "code",
   "execution_count": 73,
   "id": "5a3e3eaf-cbba-4ea4-9893-27e193c5be1d",
   "metadata": {},
   "outputs": [
    {
     "data": {
      "text/plain": [
       "'<span class=\"l5 mb-0\"><a class=\"link js-log-click\" data-event-options=\"{&quot;category_id&quot;:26,&quot;category&quot;:&quot;CPQ&quot;,&quot;name&quot;:&quot;Event::Categories::Index::CategoryVisited&quot;}\" href=\"/categories/cpq\">CPQ Software</a></span><div class=\"categories__parent\">Quote Management Software</div>'"
      ]
     },
     "execution_count": 73,
     "metadata": {},
     "output_type": "execute_result"
    }
   ],
   "source": [
    "elems[14].get_attribute('innerHTML')"
   ]
  },
  {
   "cell_type": "code",
   "execution_count": 74,
   "id": "fc4c2332-5aa0-46f5-b345-38e57c609e3f",
   "metadata": {},
   "outputs": [
    {
     "data": {
      "text/plain": [
       "'Quote Management Software'"
      ]
     },
     "execution_count": 74,
     "metadata": {},
     "output_type": "execute_result"
    }
   ],
   "source": [
    "e = elems[14].find_element(By.XPATH, './div[@class=\"categories__parent\"]')\n",
    "e.get_attribute('innerHTML')"
   ]
  },
  {
   "cell_type": "code",
   "execution_count": 75,
   "id": "34046168-5118-4990-9641-8dcbb7ed28ba",
   "metadata": {},
   "outputs": [
    {
     "data": {
      "text/plain": [
       "'CPQ Software'"
      ]
     },
     "execution_count": 75,
     "metadata": {},
     "output_type": "execute_result"
    }
   ],
   "source": [
    "e = elems[14].find_element(By.XPATH, './/a[contains(@class, \"link\")]')\n",
    "e.get_attribute('innerHTML')"
   ]
  },
  {
   "cell_type": "code",
   "execution_count": 76,
   "id": "ab714f7b-3570-499b-ba72-d98e335f64a4",
   "metadata": {},
   "outputs": [
    {
     "data": {
      "text/plain": [
       "'https://www.g2.com/categories/cpq'"
      ]
     },
     "execution_count": 76,
     "metadata": {},
     "output_type": "execute_result"
    }
   ],
   "source": [
    "e.get_attribute('href')"
   ]
  },
  {
   "cell_type": "code",
   "execution_count": 93,
   "id": "1b8fb183-49f7-4bc4-9ae4-11c37bc66efc",
   "metadata": {},
   "outputs": [
    {
     "name": "stdout",
     "output_type": "stream",
     "text": [
      "0\n",
      "100\n",
      "200\n",
      "300\n",
      "400\n",
      "500\n",
      "600\n",
      "700\n",
      "800\n",
      "900\n",
      "1000\n",
      "1100\n",
      "1200\n",
      "1300\n",
      "1400\n",
      "1500\n",
      "1600\n",
      "1700\n",
      "1800\n",
      "1900\n",
      "2000\n",
      "2056\n"
     ]
    }
   ],
   "source": [
    "cats = []\n",
    "for i, e in enumerate(elems):\n",
    "    text = e.text\n",
    "    e2 = e.find_element(By.XPATH, './/a[contains(@class, \"link\")]')\n",
    "    href = e2.get_attribute('href')\n",
    "    cat = text.split('\\n')[0]\n",
    "    parent = text.split('\\n')[-1]\n",
    "    #text = '%s (%s) ==> %s' % (cat, parent, href)\n",
    "    if e.text == '':\n",
    "        e2 = e.find_element(By.XPATH, './/a[contains(@class, \"link\")]')\n",
    "        cat = e2.get_attribute('innerHTML')\n",
    "        href = e2.get_attribute('href')\n",
    "        e3 = e.find_element(By.XPATH, './div[@class=\"categories__parent\"]')\n",
    "        parent = e3.get_attribute('innerHTML')\n",
    "        #text = ' - %s (%s) ==> %s' % (cat, parent, href) \n",
    "    cats.append({'name': cat, 'parent': parent, 'href': href})\n",
    "    if i % 100 == 0:\n",
    "        print(i)\n",
    "    #break\n",
    "print(i)"
   ]
  },
  {
   "cell_type": "code",
   "execution_count": 94,
   "id": "a5e184bb-2ed8-4947-9674-83e35ba6e8d1",
   "metadata": {},
   "outputs": [
    {
     "data": {
      "text/html": [
       "<div>\n",
       "<style scoped>\n",
       "    .dataframe tbody tr th:only-of-type {\n",
       "        vertical-align: middle;\n",
       "    }\n",
       "\n",
       "    .dataframe tbody tr th {\n",
       "        vertical-align: top;\n",
       "    }\n",
       "\n",
       "    .dataframe thead th {\n",
       "        text-align: right;\n",
       "    }\n",
       "</style>\n",
       "<table border=\"1\" class=\"dataframe\">\n",
       "  <thead>\n",
       "    <tr style=\"text-align: right;\">\n",
       "      <th></th>\n",
       "      <th>name</th>\n",
       "      <th>parent</th>\n",
       "      <th>href</th>\n",
       "    </tr>\n",
       "  </thead>\n",
       "  <tbody>\n",
       "    <tr>\n",
       "      <th>0</th>\n",
       "      <td>CRM Software</td>\n",
       "      <td>Sales Software</td>\n",
       "      <td>https://www.g2.com/categories/crm</td>\n",
       "    </tr>\n",
       "    <tr>\n",
       "      <th>1</th>\n",
       "      <td>Sales Compensation Software</td>\n",
       "      <td>Sales Software</td>\n",
       "      <td>https://www.g2.com/categories/sales-compensation</td>\n",
       "    </tr>\n",
       "    <tr>\n",
       "      <th>2</th>\n",
       "      <td>AI Sales Assistant Software</td>\n",
       "      <td>Sales Software</td>\n",
       "      <td>https://www.g2.com/categories/ai-sales-assistant</td>\n",
       "    </tr>\n",
       "    <tr>\n",
       "      <th>3</th>\n",
       "      <td>Auto Dialer Software</td>\n",
       "      <td>Sales Software</td>\n",
       "      <td>https://www.g2.com/categories/auto-dialer</td>\n",
       "    </tr>\n",
       "    <tr>\n",
       "      <th>4</th>\n",
       "      <td>Contract Analytics Software</td>\n",
       "      <td>Sales Software</td>\n",
       "      <td>https://www.g2.com/categories/contract-analytics</td>\n",
       "    </tr>\n",
       "    <tr>\n",
       "      <th>...</th>\n",
       "      <td>...</td>\n",
       "      <td>...</td>\n",
       "      <td>...</td>\n",
       "    </tr>\n",
       "    <tr>\n",
       "      <th>2052</th>\n",
       "      <td>Vineyard Management Software</td>\n",
       "      <td>Winery Software</td>\n",
       "      <td>https://www.g2.com/categories/vineyard-management</td>\n",
       "    </tr>\n",
       "    <tr>\n",
       "      <th>2053</th>\n",
       "      <td>Winery Management Software</td>\n",
       "      <td>Winery Software</td>\n",
       "      <td>https://www.g2.com/categories/winery-management</td>\n",
       "    </tr>\n",
       "    <tr>\n",
       "      <th>2054</th>\n",
       "      <td>Indoor Access Points</td>\n",
       "      <td>Wireless Hardware</td>\n",
       "      <td>https://www.g2.com/categories/indoor-access-po...</td>\n",
       "    </tr>\n",
       "    <tr>\n",
       "      <th>2055</th>\n",
       "      <td>Outdoor Access Points</td>\n",
       "      <td>Wireless Hardware</td>\n",
       "      <td>https://www.g2.com/categories/outdoor-access-p...</td>\n",
       "    </tr>\n",
       "    <tr>\n",
       "      <th>2056</th>\n",
       "      <td>Wireless LAN Controllers</td>\n",
       "      <td>Wireless Hardware</td>\n",
       "      <td>https://www.g2.com/categories/wireless-lan-con...</td>\n",
       "    </tr>\n",
       "  </tbody>\n",
       "</table>\n",
       "<p>2057 rows × 3 columns</p>\n",
       "</div>"
      ],
      "text/plain": [
       "                              name             parent  \\\n",
       "0                     CRM Software     Sales Software   \n",
       "1      Sales Compensation Software     Sales Software   \n",
       "2      AI Sales Assistant Software     Sales Software   \n",
       "3             Auto Dialer Software     Sales Software   \n",
       "4      Contract Analytics Software     Sales Software   \n",
       "...                            ...                ...   \n",
       "2052  Vineyard Management Software    Winery Software   \n",
       "2053    Winery Management Software    Winery Software   \n",
       "2054          Indoor Access Points  Wireless Hardware   \n",
       "2055         Outdoor Access Points  Wireless Hardware   \n",
       "2056      Wireless LAN Controllers  Wireless Hardware   \n",
       "\n",
       "                                                   href  \n",
       "0                     https://www.g2.com/categories/crm  \n",
       "1      https://www.g2.com/categories/sales-compensation  \n",
       "2      https://www.g2.com/categories/ai-sales-assistant  \n",
       "3             https://www.g2.com/categories/auto-dialer  \n",
       "4      https://www.g2.com/categories/contract-analytics  \n",
       "...                                                 ...  \n",
       "2052  https://www.g2.com/categories/vineyard-management  \n",
       "2053    https://www.g2.com/categories/winery-management  \n",
       "2054  https://www.g2.com/categories/indoor-access-po...  \n",
       "2055  https://www.g2.com/categories/outdoor-access-p...  \n",
       "2056  https://www.g2.com/categories/wireless-lan-con...  \n",
       "\n",
       "[2057 rows x 3 columns]"
      ]
     },
     "execution_count": 94,
     "metadata": {},
     "output_type": "execute_result"
    }
   ],
   "source": [
    "df = pd.DataFrame(cats)\n",
    "df"
   ]
  },
  {
   "cell_type": "code",
   "execution_count": 100,
   "id": "ec3a02af-e088-4fcb-bf19-4bd7ded5dbdd",
   "metadata": {},
   "outputs": [
    {
     "data": {
      "text/plain": [
       "(2057, 237, 2057)"
      ]
     },
     "execution_count": 100,
     "metadata": {},
     "output_type": "execute_result"
    }
   ],
   "source": [
    "len(df.name.unique()), len(df.parent.unique()), len(df.href.unique())"
   ]
  },
  {
   "cell_type": "code",
   "execution_count": 102,
   "id": "98393d97-502f-42a6-80c0-7d75167f3ece",
   "metadata": {},
   "outputs": [],
   "source": [
    "df['n_sub'] = 0"
   ]
  },
  {
   "cell_type": "code",
   "execution_count": 104,
   "id": "cb592b80-67ed-412b-831d-cdf5cd34bc14",
   "metadata": {},
   "outputs": [],
   "source": [
    "for n in df.name.unique():\n",
    "    nsub = len(df[df.parent == n])\n",
    "    df.loc[df.name == n, 'n_sub'] = nsub"
   ]
  },
  {
   "cell_type": "code",
   "execution_count": 123,
   "id": "1a636b27-7259-475d-ad53-8cd5defc8c3d",
   "metadata": {},
   "outputs": [],
   "source": [
    "df.to_csv('g2_categories.csv', index=False)"
   ]
  },
  {
   "cell_type": "code",
   "execution_count": 109,
   "id": "7ff11da4-5b8b-493b-9c1a-2319bad49192",
   "metadata": {},
   "outputs": [
    {
     "data": {
      "text/html": [
       "<div>\n",
       "<style scoped>\n",
       "    .dataframe tbody tr th:only-of-type {\n",
       "        vertical-align: middle;\n",
       "    }\n",
       "\n",
       "    .dataframe tbody tr th {\n",
       "        vertical-align: top;\n",
       "    }\n",
       "\n",
       "    .dataframe thead th {\n",
       "        text-align: right;\n",
       "    }\n",
       "</style>\n",
       "<table border=\"1\" class=\"dataframe\">\n",
       "  <thead>\n",
       "    <tr style=\"text-align: right;\">\n",
       "      <th></th>\n",
       "      <th>name</th>\n",
       "      <th>parent</th>\n",
       "      <th>href</th>\n",
       "      <th>n_sub</th>\n",
       "    </tr>\n",
       "  </thead>\n",
       "  <tbody>\n",
       "    <tr>\n",
       "      <th>0</th>\n",
       "      <td>CRM Software</td>\n",
       "      <td>Sales Software</td>\n",
       "      <td>https://www.g2.com/categories/crm</td>\n",
       "      <td>0</td>\n",
       "    </tr>\n",
       "    <tr>\n",
       "      <th>1</th>\n",
       "      <td>Sales Compensation Software</td>\n",
       "      <td>Sales Software</td>\n",
       "      <td>https://www.g2.com/categories/sales-compensation</td>\n",
       "      <td>0</td>\n",
       "    </tr>\n",
       "    <tr>\n",
       "      <th>2</th>\n",
       "      <td>AI Sales Assistant Software</td>\n",
       "      <td>Sales Software</td>\n",
       "      <td>https://www.g2.com/categories/ai-sales-assistant</td>\n",
       "      <td>0</td>\n",
       "    </tr>\n",
       "    <tr>\n",
       "      <th>3</th>\n",
       "      <td>Auto Dialer Software</td>\n",
       "      <td>Sales Software</td>\n",
       "      <td>https://www.g2.com/categories/auto-dialer</td>\n",
       "      <td>0</td>\n",
       "    </tr>\n",
       "    <tr>\n",
       "      <th>4</th>\n",
       "      <td>Contract Analytics Software</td>\n",
       "      <td>Sales Software</td>\n",
       "      <td>https://www.g2.com/categories/contract-analytics</td>\n",
       "      <td>0</td>\n",
       "    </tr>\n",
       "    <tr>\n",
       "      <th>...</th>\n",
       "      <td>...</td>\n",
       "      <td>...</td>\n",
       "      <td>...</td>\n",
       "      <td>...</td>\n",
       "    </tr>\n",
       "    <tr>\n",
       "      <th>2052</th>\n",
       "      <td>Vineyard Management Software</td>\n",
       "      <td>Winery Software</td>\n",
       "      <td>https://www.g2.com/categories/vineyard-management</td>\n",
       "      <td>0</td>\n",
       "    </tr>\n",
       "    <tr>\n",
       "      <th>2053</th>\n",
       "      <td>Winery Management Software</td>\n",
       "      <td>Winery Software</td>\n",
       "      <td>https://www.g2.com/categories/winery-management</td>\n",
       "      <td>0</td>\n",
       "    </tr>\n",
       "    <tr>\n",
       "      <th>2054</th>\n",
       "      <td>Indoor Access Points</td>\n",
       "      <td>Wireless Hardware</td>\n",
       "      <td>https://www.g2.com/categories/indoor-access-po...</td>\n",
       "      <td>0</td>\n",
       "    </tr>\n",
       "    <tr>\n",
       "      <th>2055</th>\n",
       "      <td>Outdoor Access Points</td>\n",
       "      <td>Wireless Hardware</td>\n",
       "      <td>https://www.g2.com/categories/outdoor-access-p...</td>\n",
       "      <td>0</td>\n",
       "    </tr>\n",
       "    <tr>\n",
       "      <th>2056</th>\n",
       "      <td>Wireless LAN Controllers</td>\n",
       "      <td>Wireless Hardware</td>\n",
       "      <td>https://www.g2.com/categories/wireless-lan-con...</td>\n",
       "      <td>0</td>\n",
       "    </tr>\n",
       "  </tbody>\n",
       "</table>\n",
       "<p>1876 rows × 4 columns</p>\n",
       "</div>"
      ],
      "text/plain": [
       "                              name             parent  \\\n",
       "0                     CRM Software     Sales Software   \n",
       "1      Sales Compensation Software     Sales Software   \n",
       "2      AI Sales Assistant Software     Sales Software   \n",
       "3             Auto Dialer Software     Sales Software   \n",
       "4      Contract Analytics Software     Sales Software   \n",
       "...                            ...                ...   \n",
       "2052  Vineyard Management Software    Winery Software   \n",
       "2053    Winery Management Software    Winery Software   \n",
       "2054          Indoor Access Points  Wireless Hardware   \n",
       "2055         Outdoor Access Points  Wireless Hardware   \n",
       "2056      Wireless LAN Controllers  Wireless Hardware   \n",
       "\n",
       "                                                   href  n_sub  \n",
       "0                     https://www.g2.com/categories/crm      0  \n",
       "1      https://www.g2.com/categories/sales-compensation      0  \n",
       "2      https://www.g2.com/categories/ai-sales-assistant      0  \n",
       "3             https://www.g2.com/categories/auto-dialer      0  \n",
       "4      https://www.g2.com/categories/contract-analytics      0  \n",
       "...                                                 ...    ...  \n",
       "2052  https://www.g2.com/categories/vineyard-management      0  \n",
       "2053    https://www.g2.com/categories/winery-management      0  \n",
       "2054  https://www.g2.com/categories/indoor-access-po...      0  \n",
       "2055  https://www.g2.com/categories/outdoor-access-p...      0  \n",
       "2056  https://www.g2.com/categories/wireless-lan-con...      0  \n",
       "\n",
       "[1876 rows x 4 columns]"
      ]
     },
     "execution_count": 109,
     "metadata": {},
     "output_type": "execute_result"
    }
   ],
   "source": [
    "sdf = df[df.n_sub==0].copy()\n",
    "sdf"
   ]
  },
  {
   "cell_type": "code",
   "execution_count": 121,
   "id": "ac1f1a94-de7a-4966-848f-d23c99af5763",
   "metadata": {},
   "outputs": [
    {
     "name": "stdout",
     "output_type": "stream",
     "text": [
      "name                           CRM Software\n",
      "parent                       Sales Software\n",
      "href      https://www.g2.com/categories/crm\n",
      "n_sub                                     0\n",
      "Name: 0, dtype: object\n"
     ]
    }
   ],
   "source": [
    "for i, r in sdf.iterrows():\n",
    "    print(r)\n",
    "    browser.get(r.href)\n",
    "    break"
   ]
  },
  {
   "cell_type": "code",
   "execution_count": 122,
   "id": "74939afe-810e-48f6-84c9-c77300b45e94",
   "metadata": {},
   "outputs": [],
   "source": [
    "browser.quit()"
   ]
  },
  {
   "cell_type": "code",
   "execution_count": null,
   "id": "7c73c11a-8403-4505-b287-7e23ef80b01f",
   "metadata": {},
   "outputs": [],
   "source": []
  }
 ],
 "metadata": {
  "kernelspec": {
   "display_name": "Python 3 (ipykernel)",
   "language": "python",
   "name": "python3"
  },
  "language_info": {
   "codemirror_mode": {
    "name": "ipython",
    "version": 3
   },
   "file_extension": ".py",
   "mimetype": "text/x-python",
   "name": "python",
   "nbconvert_exporter": "python",
   "pygments_lexer": "ipython3",
   "version": "3.8.12"
  }
 },
 "nbformat": 4,
 "nbformat_minor": 5
}
